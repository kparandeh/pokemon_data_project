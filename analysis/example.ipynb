{
 "cells": [
  {
   "cell_type": "code",
   "execution_count": 3,
   "metadata": {},
   "outputs": [
    {
     "name": "stdout",
     "output_type": "stream",
     "text": [
      "[['bulbasaur', 'ivysaur', 'venusaur']]\n"
     ]
    }
   ],
   "source": [
    "from evolutions import get_pokemon_evolution\n",
    "\n",
    "evolution_path = get_pokemon_evolution(\"bulbasaur\")\n",
    "print(evolution_path)"
   ]
  },
  {
   "cell_type": "code",
   "execution_count": 5,
   "metadata": {},
   "outputs": [
    {
     "name": "stdout",
     "output_type": "stream",
     "text": [
      "[['eevee', 'vaporeon'], ['eevee', 'jolteon'], ['eevee', 'flareon'], ['eevee', 'espeon'], ['eevee', 'umbreon'], ['eevee', 'leafeon'], ['eevee', 'glaceon'], ['eevee', 'sylveon']]\n"
     ]
    }
   ],
   "source": [
    "evolution_path1 = get_pokemon_evolution(\"eevee\")\n",
    "print(evolution_path1)"
   ]
  }
 ],
 "metadata": {
  "kernelspec": {
   "display_name": "base",
   "language": "python",
   "name": "python3"
  },
  "language_info": {
   "codemirror_mode": {
    "name": "ipython",
    "version": 3
   },
   "file_extension": ".py",
   "mimetype": "text/x-python",
   "name": "python",
   "nbconvert_exporter": "python",
   "pygments_lexer": "ipython3",
   "version": "3.11.5"
  }
 },
 "nbformat": 4,
 "nbformat_minor": 2
}
