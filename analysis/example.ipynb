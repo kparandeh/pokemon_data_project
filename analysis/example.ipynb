{
 "cells": [
  {
   "cell_type": "code",
   "execution_count": 4,
   "metadata": {},
   "outputs": [
    {
     "name": "stdout",
     "output_type": "stream",
     "text": [
      "[['igglybuff', 'jigglypuff', 'wigglytuff']]\n"
     ]
    }
   ],
   "source": [
    "from analysis.evolutions import get_pokemon_evolution\n",
    "\n",
    "evolution_path = get_pokemon_evolution(\"jigglypuff\")\n",
    "print(evolution_path)"
   ]
  },
  {
   "cell_type": "code",
   "execution_count": 6,
   "metadata": {},
   "outputs": [
    {
     "name": "stdout",
     "output_type": "stream",
     "text": [
      "[['scyther', 'scizor'], ['scyther', 'kleavor']]\n"
     ]
    }
   ],
   "source": [
    "evolution_path1 = get_pokemon_evolution(\"scyther\")\n",
    "print(evolution_path1)"
   ]
  }
 ],
 "metadata": {
  "kernelspec": {
   "display_name": "base",
   "language": "python",
   "name": "python3"
  },
  "language_info": {
   "codemirror_mode": {
    "name": "ipython",
    "version": 3
   },
   "file_extension": ".py",
   "mimetype": "text/x-python",
   "name": "python",
   "nbconvert_exporter": "python",
   "pygments_lexer": "ipython3",
   "version": "3.12.1"
  }
 },
 "nbformat": 4,
 "nbformat_minor": 2
}
